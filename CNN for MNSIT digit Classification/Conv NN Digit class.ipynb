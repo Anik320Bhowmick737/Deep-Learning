{
 "cells": [
  {
   "cell_type": "markdown",
   "id": "b32ec611-120d-4d72-a8e4-4ad11e153a6a",
   "metadata": {},
   "source": [
    "**Importing Data sets**"
   ]
  },
  {
   "cell_type": "code",
   "execution_count": 77,
   "id": "d712f0f5-aafb-4bae-a2ae-ead50c9a5f92",
   "metadata": {},
   "outputs": [],
   "source": [
    "import pandas as pd\n",
    "from keras.datasets import mnist\n",
    "import matplotlib.pyplot as plt\n",
    "import tensorflow as tf\n",
    "import numpy as np\n",
    "from tensorflow.keras import layers,models"
   ]
  },
  {
   "cell_type": "code",
   "execution_count": 6,
   "id": "7b92c8a0-5e88-40b3-ad97-7bf5e3a9577c",
   "metadata": {},
   "outputs": [],
   "source": [
    "(X_train, Y_train), (X_test, Y_test) =  mnist.load_data() #Loading Data from Mnist"
   ]
  },
  {
   "cell_type": "markdown",
   "id": "ff415b6f-625b-4cc7-a205-7f97a6d756c2",
   "metadata": {},
   "source": [
    "**Feature normalisation**"
   ]
  },
  {
   "cell_type": "code",
   "execution_count": 14,
   "id": "87386740-9356-46bb-bbc0-8b8308a549ca",
   "metadata": {},
   "outputs": [],
   "source": [
    "X_train = X_train/255\n",
    "X_test = X_test/255"
   ]
  },
  {
   "cell_type": "markdown",
   "id": "943e9c36-1fed-4db0-a704-4f89cdf1e942",
   "metadata": {},
   "source": [
    "**Keras Layers**"
   ]
  },
  {
   "cell_type": "code",
   "execution_count": 94,
   "id": "86838b6c-06c7-43be-8e5d-63e0b16bfcea",
   "metadata": {},
   "outputs": [],
   "source": [
    "model=models.Sequential()\n",
    "model.add(layers.Conv2D(32,(3,3),strides=(1,1),padding=\"valid\",activation='relu',input_shape=(28,28,1)))\n",
    "model.add(layers.MaxPool2D(2,2))\n",
    "model.add(layers.Conv2D(32,(5,5),strides=(1,1),padding=\"valid\",activation='relu'))\n",
    "model.add(layers.MaxPool2D(5,5))\n",
    "model.add(layers.Flatten())\n",
    "model.add(layers.Dense(60,activation='sigmoid'))\n",
    "model.add(layers.Dense(10,activation='sigmoid'))"
   ]
  },
  {
   "cell_type": "code",
   "execution_count": 95,
   "id": "e70fcc6a-5487-4c0c-9d27-f14b7592aa8c",
   "metadata": {},
   "outputs": [
    {
     "name": "stdout",
     "output_type": "stream",
     "text": [
      "Model: \"sequential_4\"\n",
      "_________________________________________________________________\n",
      " Layer (type)                Output Shape              Param #   \n",
      "=================================================================\n",
      " conv2d_5 (Conv2D)           (None, 26, 26, 32)        320       \n",
      "                                                                 \n",
      " max_pooling2d_4 (MaxPooling  (None, 13, 13, 32)       0         \n",
      " 2D)                                                             \n",
      "                                                                 \n",
      " conv2d_6 (Conv2D)           (None, 9, 9, 32)          25632     \n",
      "                                                                 \n",
      " max_pooling2d_5 (MaxPooling  (None, 1, 1, 32)         0         \n",
      " 2D)                                                             \n",
      "                                                                 \n",
      " flatten_1 (Flatten)         (None, 32)                0         \n",
      "                                                                 \n",
      " dense_2 (Dense)             (None, 60)                1980      \n",
      "                                                                 \n",
      " dense_3 (Dense)             (None, 10)                610       \n",
      "                                                                 \n",
      "=================================================================\n",
      "Total params: 28,542\n",
      "Trainable params: 28,542\n",
      "Non-trainable params: 0\n",
      "_________________________________________________________________\n"
     ]
    }
   ],
   "source": [
    "model.summary()"
   ]
  },
  {
   "cell_type": "markdown",
   "id": "5a459cf6-3d34-4e48-94ae-8a02b8cdb099",
   "metadata": {},
   "source": [
    "**Loss as Sparse Categorical Cross entropy because output labels are integers from 0 to 9**"
   ]
  },
  {
   "cell_type": "code",
   "execution_count": 96,
   "id": "435969aa-6d2e-47dc-9f26-ee399075f8bc",
   "metadata": {},
   "outputs": [],
   "source": [
    "model.compile(optimizer='adam',loss='SparseCategoricalCrossentropy',metrics=['accuracy'])"
   ]
  },
  {
   "cell_type": "code",
   "execution_count": 97,
   "id": "0010c5c6-27e8-4398-9c15-d690721c7e5a",
   "metadata": {},
   "outputs": [
    {
     "name": "stdout",
     "output_type": "stream",
     "text": [
      "Epoch 1/10\n",
      "1400/1400 [==============================] - 13s 9ms/step - loss: 0.5501 - accuracy: 0.8465 - val_loss: 0.2278 - val_accuracy: 0.9364\n",
      "Epoch 2/10\n",
      "1400/1400 [==============================] - 13s 9ms/step - loss: 0.1844 - accuracy: 0.9471 - val_loss: 0.1549 - val_accuracy: 0.9534\n",
      "Epoch 3/10\n",
      "1400/1400 [==============================] - 13s 9ms/step - loss: 0.1351 - accuracy: 0.9600 - val_loss: 0.1268 - val_accuracy: 0.9616\n",
      "Epoch 4/10\n",
      "1400/1400 [==============================] - 13s 9ms/step - loss: 0.1115 - accuracy: 0.9670 - val_loss: 0.1124 - val_accuracy: 0.9648\n",
      "Epoch 5/10\n",
      "1400/1400 [==============================] - 13s 9ms/step - loss: 0.0954 - accuracy: 0.9708 - val_loss: 0.1155 - val_accuracy: 0.9657\n",
      "Epoch 6/10\n",
      "1400/1400 [==============================] - 13s 9ms/step - loss: 0.0842 - accuracy: 0.9743 - val_loss: 0.0935 - val_accuracy: 0.9722\n",
      "Epoch 7/10\n",
      "1400/1400 [==============================] - 13s 9ms/step - loss: 0.0764 - accuracy: 0.9767 - val_loss: 0.1012 - val_accuracy: 0.9692\n",
      "Epoch 8/10\n",
      "1400/1400 [==============================] - 13s 9ms/step - loss: 0.0682 - accuracy: 0.9792 - val_loss: 0.0912 - val_accuracy: 0.9727\n",
      "Epoch 9/10\n",
      "1400/1400 [==============================] - 13s 9ms/step - loss: 0.0639 - accuracy: 0.9798 - val_loss: 0.0941 - val_accuracy: 0.9717\n",
      "Epoch 10/10\n",
      "1400/1400 [==============================] - 13s 9ms/step - loss: 0.0565 - accuracy: 0.9821 - val_loss: 0.0865 - val_accuracy: 0.9742\n"
     ]
    }
   ],
   "source": [
    "H=model.fit(\n",
    "    x=X_train,\n",
    "    y=Y_train,\n",
    "    batch_size=30,\n",
    "    epochs=10,\n",
    "    validation_split=0.3\n",
    ")"
   ]
  },
  {
   "cell_type": "code",
   "execution_count": 107,
   "id": "7ece6e04-4d7c-4d2c-91cc-48895ad97ea7",
   "metadata": {},
   "outputs": [
    {
     "data": {
      "image/png": "[encoded data removed]",
      "text/plain": [
       "<Figure size 432x288 with 1 Axes>"
      ]
     },
     "metadata": {
      "needs_background": "light"
     },
     "output_type": "display_data"
    }
   ],
   "source": [
    "plt.plot(H.history['val_accuracy'])\n",
    "plt.xlabel('Epoch')\n",
    "plt.ylabel(\"Validation accuracy\")\n",
    "plt.show()"
   ]
  },
  {
   "cell_type": "code",
   "execution_count": 99,
   "id": "c072bfa4-9e87-4ea1-8f72-d5eca705b15a",
   "metadata": {},
   "outputs": [
    {
     "name": "stdout",
     "output_type": "stream",
     "text": [
      "79/79 [==============================] - 1s 6ms/step - loss: 0.0788 - accuracy: 0.9754\n",
      "test loss, test acc: [0.0787779837846756, 0.9753999710083008]\n"
     ]
    }
   ],
   "source": [
    "results = model.evaluate(X_test, Y_test, batch_size=128)\n",
    "print(\"test loss, test acc:\", results)"
   ]
  },
  {
   "cell_type": "markdown",
   "id": "5e677db2-9dc8-4547-b616-a1b4fac92a9e",
   "metadata": {},
   "source": [
    "**Visualize in the test set for first 4**"
   ]
  },
  {
   "cell_type": "code",
   "execution_count": 100,
   "id": "f7745b73-095a-4801-9e92-733473544599",
   "metadata": {},
   "outputs": [
    {
     "data": {
      "image/png": "[encoded data removed]",
      "text/plain": [
       "<Figure size 360x360 with 1 Axes>"
      ]
     },
     "metadata": {
      "needs_background": "light"
     },
     "output_type": "display_data"
    },
    {
     "data": {
      "image/png": "[encoded data removed]",
      "text/plain": [
       "<Figure size 360x360 with 1 Axes>"
      ]
     },
     "metadata": {
      "needs_background": "light"
     },
     "output_type": "display_data"
    },
    {
     "data": {
      "image/png": "[encoded data removed]",
      "text/plain": [
       "<Figure size 360x360 with 1 Axes>"
      ]
     },
     "metadata": {
      "needs_background": "light"
     },
     "output_type": "display_data"
    },
    {
     "data": {
      "image/png": "[encoded data removed]",
      "text/plain": [
       "<Figure size 360x360 with 1 Axes>"
      ]
     },
     "metadata": {
      "needs_background": "light"
     },
     "output_type": "display_data"
    }
   ],
   "source": [
    "for i in range(len(X_test[:4])):\n",
    "    plt.figure(figsize=(5,5))\n",
    "    plt.imshow(X_test[i])"
   ]
  },
  {
   "cell_type": "code",
   "execution_count": 104,
   "id": "7ed9b845-3772-4860-8e25-c1e2e76b0577",
   "metadata": {},
   "outputs": [
    {
     "name": "stdout",
     "output_type": "stream",
     "text": [
      "1/1 [==============================] - 0s 16ms/step\n",
      "[7 2 1 0]\n"
     ]
    }
   ],
   "source": [
    "print(np.argmax(model.predict(X_test[:4]),axis=1))"
   ]
  },
  {
   "cell_type": "code",
   "execution_count": 105,
   "id": "1cf4d8bc-ba82-420e-8a93-6086b93c7051",
   "metadata": {},
   "outputs": [
    {
     "name": "stdout",
     "output_type": "stream",
     "text": [
      "[7 2 1 0]\n"
     ]
    }
   ],
   "source": [
    "print(Y_test[:4])"
   ]
  }
 ],
 "metadata": {
  "kernelspec": {
   "display_name": "Python 3 (ipykernel)",
   "language": "python",
   "name": "python3"
  },
  "language_info": {
   "codemirror_mode": {
    "name": "ipython",
    "version": 3
   },
   "file_extension": ".py",
   "mimetype": "text/x-python",
   "name": "python",
   "nbconvert_exporter": "python",
   "pygments_lexer": "ipython3",
   "version": "3.10.1"
  }
 },
 "nbformat": 4,
 "nbformat_minor": 5
}
